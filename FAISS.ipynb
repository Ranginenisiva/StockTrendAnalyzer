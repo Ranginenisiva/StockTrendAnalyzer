{
 "cells": [
  {
   "cell_type": "markdown",
   "id": "071cf906-974b-4142-90a7-45c66a09f912",
   "metadata": {},
   "source": [
    "# Understanding Faiss"
   ]
  },
  {
   "cell_type": "code",
   "execution_count": 2,
   "id": "84398816-b345-4c89-8f2e-e6d0bc282fae",
   "metadata": {},
   "outputs": [
    {
     "name": "stdout",
     "output_type": "stream",
     "text": [
      "Requirement already satisfied: faiss-cpu in c:\\users\\rangi\\appdata\\local\\packages\\pythonsoftwarefoundation.python.3.11_qbz5n2kfra8p0\\localcache\\local-packages\\python311\\site-packages (1.12.0)\n",
      "Requirement already satisfied: numpy<3.0,>=1.25.0 in c:\\users\\rangi\\appdata\\local\\packages\\pythonsoftwarefoundation.python.3.11_qbz5n2kfra8p0\\localcache\\local-packages\\python311\\site-packages (from faiss-cpu) (2.3.2)\n",
      "Requirement already satisfied: packaging in c:\\users\\rangi\\appdata\\local\\packages\\pythonsoftwarefoundation.python.3.11_qbz5n2kfra8p0\\localcache\\local-packages\\python311\\site-packages (from faiss-cpu) (25.0)\n",
      "Requirement already satisfied: sentence-transformers in c:\\users\\rangi\\appdata\\local\\packages\\pythonsoftwarefoundation.python.3.11_qbz5n2kfra8p0\\localcache\\local-packages\\python311\\site-packages (5.1.0)\n",
      "Requirement already satisfied: transformers<5.0.0,>=4.41.0 in c:\\users\\rangi\\appdata\\local\\packages\\pythonsoftwarefoundation.python.3.11_qbz5n2kfra8p0\\localcache\\local-packages\\python311\\site-packages (from sentence-transformers) (4.55.2)\n",
      "Requirement already satisfied: tqdm in c:\\users\\rangi\\appdata\\local\\packages\\pythonsoftwarefoundation.python.3.11_qbz5n2kfra8p0\\localcache\\local-packages\\python311\\site-packages (from sentence-transformers) (4.67.1)\n",
      "Requirement already satisfied: torch>=1.11.0 in c:\\users\\rangi\\appdata\\local\\packages\\pythonsoftwarefoundation.python.3.11_qbz5n2kfra8p0\\localcache\\local-packages\\python311\\site-packages (from sentence-transformers) (2.8.0)\n",
      "Requirement already satisfied: scikit-learn in c:\\users\\rangi\\appdata\\local\\packages\\pythonsoftwarefoundation.python.3.11_qbz5n2kfra8p0\\localcache\\local-packages\\python311\\site-packages (from sentence-transformers) (1.7.1)\n",
      "Requirement already satisfied: scipy in c:\\users\\rangi\\appdata\\local\\packages\\pythonsoftwarefoundation.python.3.11_qbz5n2kfra8p0\\localcache\\local-packages\\python311\\site-packages (from sentence-transformers) (1.16.1)\n",
      "Requirement already satisfied: huggingface-hub>=0.20.0 in c:\\users\\rangi\\appdata\\local\\packages\\pythonsoftwarefoundation.python.3.11_qbz5n2kfra8p0\\localcache\\local-packages\\python311\\site-packages (from sentence-transformers) (0.34.4)\n",
      "Requirement already satisfied: Pillow in c:\\users\\rangi\\appdata\\local\\packages\\pythonsoftwarefoundation.python.3.11_qbz5n2kfra8p0\\localcache\\local-packages\\python311\\site-packages (from sentence-transformers) (11.3.0)\n",
      "Requirement already satisfied: typing_extensions>=4.5.0 in c:\\users\\rangi\\appdata\\local\\packages\\pythonsoftwarefoundation.python.3.11_qbz5n2kfra8p0\\localcache\\local-packages\\python311\\site-packages (from sentence-transformers) (4.14.1)\n",
      "Requirement already satisfied: filelock in c:\\users\\rangi\\appdata\\local\\packages\\pythonsoftwarefoundation.python.3.11_qbz5n2kfra8p0\\localcache\\local-packages\\python311\\site-packages (from transformers<5.0.0,>=4.41.0->sentence-transformers) (3.19.1)\n",
      "Requirement already satisfied: numpy>=1.17 in c:\\users\\rangi\\appdata\\local\\packages\\pythonsoftwarefoundation.python.3.11_qbz5n2kfra8p0\\localcache\\local-packages\\python311\\site-packages (from transformers<5.0.0,>=4.41.0->sentence-transformers) (2.3.2)\n",
      "Requirement already satisfied: packaging>=20.0 in c:\\users\\rangi\\appdata\\local\\packages\\pythonsoftwarefoundation.python.3.11_qbz5n2kfra8p0\\localcache\\local-packages\\python311\\site-packages (from transformers<5.0.0,>=4.41.0->sentence-transformers) (25.0)\n",
      "Requirement already satisfied: pyyaml>=5.1 in c:\\users\\rangi\\appdata\\local\\packages\\pythonsoftwarefoundation.python.3.11_qbz5n2kfra8p0\\localcache\\local-packages\\python311\\site-packages (from transformers<5.0.0,>=4.41.0->sentence-transformers) (6.0.2)\n",
      "Requirement already satisfied: regex!=2019.12.17 in c:\\users\\rangi\\appdata\\local\\packages\\pythonsoftwarefoundation.python.3.11_qbz5n2kfra8p0\\localcache\\local-packages\\python311\\site-packages (from transformers<5.0.0,>=4.41.0->sentence-transformers) (2025.7.34)\n",
      "Requirement already satisfied: requests in c:\\users\\rangi\\appdata\\local\\packages\\pythonsoftwarefoundation.python.3.11_qbz5n2kfra8p0\\localcache\\local-packages\\python311\\site-packages (from transformers<5.0.0,>=4.41.0->sentence-transformers) (2.32.4)\n",
      "Requirement already satisfied: tokenizers<0.22,>=0.21 in c:\\users\\rangi\\appdata\\local\\packages\\pythonsoftwarefoundation.python.3.11_qbz5n2kfra8p0\\localcache\\local-packages\\python311\\site-packages (from transformers<5.0.0,>=4.41.0->sentence-transformers) (0.21.4)\n",
      "Requirement already satisfied: safetensors>=0.4.3 in c:\\users\\rangi\\appdata\\local\\packages\\pythonsoftwarefoundation.python.3.11_qbz5n2kfra8p0\\localcache\\local-packages\\python311\\site-packages (from transformers<5.0.0,>=4.41.0->sentence-transformers) (0.6.2)\n",
      "Requirement already satisfied: fsspec>=2023.5.0 in c:\\users\\rangi\\appdata\\local\\packages\\pythonsoftwarefoundation.python.3.11_qbz5n2kfra8p0\\localcache\\local-packages\\python311\\site-packages (from huggingface-hub>=0.20.0->sentence-transformers) (2025.7.0)\n",
      "Requirement already satisfied: sympy>=1.13.3 in c:\\users\\rangi\\appdata\\local\\packages\\pythonsoftwarefoundation.python.3.11_qbz5n2kfra8p0\\localcache\\local-packages\\python311\\site-packages (from torch>=1.11.0->sentence-transformers) (1.14.0)\n",
      "Requirement already satisfied: networkx in c:\\users\\rangi\\appdata\\local\\packages\\pythonsoftwarefoundation.python.3.11_qbz5n2kfra8p0\\localcache\\local-packages\\python311\\site-packages (from torch>=1.11.0->sentence-transformers) (3.5)\n",
      "Requirement already satisfied: jinja2 in c:\\users\\rangi\\appdata\\local\\packages\\pythonsoftwarefoundation.python.3.11_qbz5n2kfra8p0\\localcache\\local-packages\\python311\\site-packages (from torch>=1.11.0->sentence-transformers) (3.1.6)\n",
      "Requirement already satisfied: mpmath<1.4,>=1.1.0 in c:\\users\\rangi\\appdata\\local\\packages\\pythonsoftwarefoundation.python.3.11_qbz5n2kfra8p0\\localcache\\local-packages\\python311\\site-packages (from sympy>=1.13.3->torch>=1.11.0->sentence-transformers) (1.3.0)\n",
      "Requirement already satisfied: colorama in c:\\users\\rangi\\appdata\\local\\packages\\pythonsoftwarefoundation.python.3.11_qbz5n2kfra8p0\\localcache\\local-packages\\python311\\site-packages (from tqdm->sentence-transformers) (0.4.6)\n",
      "Requirement already satisfied: MarkupSafe>=2.0 in c:\\users\\rangi\\appdata\\local\\packages\\pythonsoftwarefoundation.python.3.11_qbz5n2kfra8p0\\localcache\\local-packages\\python311\\site-packages (from jinja2->torch>=1.11.0->sentence-transformers) (3.0.2)\n",
      "Requirement already satisfied: charset_normalizer<4,>=2 in c:\\users\\rangi\\appdata\\local\\packages\\pythonsoftwarefoundation.python.3.11_qbz5n2kfra8p0\\localcache\\local-packages\\python311\\site-packages (from requests->transformers<5.0.0,>=4.41.0->sentence-transformers) (3.4.3)\n",
      "Requirement already satisfied: idna<4,>=2.5 in c:\\users\\rangi\\appdata\\local\\packages\\pythonsoftwarefoundation.python.3.11_qbz5n2kfra8p0\\localcache\\local-packages\\python311\\site-packages (from requests->transformers<5.0.0,>=4.41.0->sentence-transformers) (3.10)\n",
      "Requirement already satisfied: urllib3<3,>=1.21.1 in c:\\users\\rangi\\appdata\\local\\packages\\pythonsoftwarefoundation.python.3.11_qbz5n2kfra8p0\\localcache\\local-packages\\python311\\site-packages (from requests->transformers<5.0.0,>=4.41.0->sentence-transformers) (2.5.0)\n",
      "Requirement already satisfied: certifi>=2017.4.17 in c:\\users\\rangi\\appdata\\local\\packages\\pythonsoftwarefoundation.python.3.11_qbz5n2kfra8p0\\localcache\\local-packages\\python311\\site-packages (from requests->transformers<5.0.0,>=4.41.0->sentence-transformers) (2025.8.3)\n",
      "Requirement already satisfied: joblib>=1.2.0 in c:\\users\\rangi\\appdata\\local\\packages\\pythonsoftwarefoundation.python.3.11_qbz5n2kfra8p0\\localcache\\local-packages\\python311\\site-packages (from scikit-learn->sentence-transformers) (1.5.1)\n",
      "Requirement already satisfied: threadpoolctl>=3.1.0 in c:\\users\\rangi\\appdata\\local\\packages\\pythonsoftwarefoundation.python.3.11_qbz5n2kfra8p0\\localcache\\local-packages\\python311\\site-packages (from scikit-learn->sentence-transformers) (3.6.0)\n"
     ]
    }
   ],
   "source": [
    "# #Install Packages\n",
    "!pip install faiss-cpu\n",
    "!pip install sentence-transformers"
   ]
  },
  {
   "cell_type": "code",
   "execution_count": 3,
   "id": "9cc80c63-524f-4c27-b611-c73d3bc82c5a",
   "metadata": {},
   "outputs": [],
   "source": [
    "# import pandas \n",
    "import pandas as pd "
   ]
  },
  {
   "cell_type": "code",
   "execution_count": 4,
   "id": "a972a14c-ef8a-4a76-91f1-fa1b060c6fc8",
   "metadata": {},
   "outputs": [],
   "source": [
    "df = pd.read_csv(\"FAISS_text.csv\")"
   ]
  },
  {
   "cell_type": "code",
   "execution_count": 5,
   "id": "3638a82f-b6aa-4a00-b876-630725607ab1",
   "metadata": {},
   "outputs": [
    {
     "data": {
      "text/html": [
       "<div>\n",
       "<style scoped>\n",
       "    .dataframe tbody tr th:only-of-type {\n",
       "        vertical-align: middle;\n",
       "    }\n",
       "\n",
       "    .dataframe tbody tr th {\n",
       "        vertical-align: top;\n",
       "    }\n",
       "\n",
       "    .dataframe thead th {\n",
       "        text-align: right;\n",
       "    }\n",
       "</style>\n",
       "<table border=\"1\" class=\"dataframe\">\n",
       "  <thead>\n",
       "    <tr style=\"text-align: right;\">\n",
       "      <th></th>\n",
       "      <th>text</th>\n",
       "      <th>category</th>\n",
       "    </tr>\n",
       "  </thead>\n",
       "  <tbody>\n",
       "    <tr>\n",
       "      <th>0</th>\n",
       "      <td>Meditation and yoga can improve mental health</td>\n",
       "      <td>Health</td>\n",
       "    </tr>\n",
       "    <tr>\n",
       "      <th>1</th>\n",
       "      <td>Fruits, whole grains and vegetables helps cont...</td>\n",
       "      <td>Health</td>\n",
       "    </tr>\n",
       "    <tr>\n",
       "      <th>2</th>\n",
       "      <td>These are the latest fashion trends for this week</td>\n",
       "      <td>Fashion</td>\n",
       "    </tr>\n",
       "    <tr>\n",
       "      <th>3</th>\n",
       "      <td>Vibrant color jeans for male are becoming a trend</td>\n",
       "      <td>Fashion</td>\n",
       "    </tr>\n",
       "    <tr>\n",
       "      <th>4</th>\n",
       "      <td>The concert starts at 7 PM tonight</td>\n",
       "      <td>Event</td>\n",
       "    </tr>\n",
       "    <tr>\n",
       "      <th>5</th>\n",
       "      <td>Navaratri dandiya program at Expo center in Mu...</td>\n",
       "      <td>Event</td>\n",
       "    </tr>\n",
       "    <tr>\n",
       "      <th>6</th>\n",
       "      <td>Exciting vacation destinations for your next trip</td>\n",
       "      <td>Travel</td>\n",
       "    </tr>\n",
       "    <tr>\n",
       "      <th>7</th>\n",
       "      <td>Maldives and Srilanka are gaining popularity i...</td>\n",
       "      <td>Travel</td>\n",
       "    </tr>\n",
       "  </tbody>\n",
       "</table>\n",
       "</div>"
      ],
      "text/plain": [
       "                                                text category\n",
       "0      Meditation and yoga can improve mental health   Health\n",
       "1  Fruits, whole grains and vegetables helps cont...   Health\n",
       "2  These are the latest fashion trends for this week  Fashion\n",
       "3  Vibrant color jeans for male are becoming a trend  Fashion\n",
       "4                 The concert starts at 7 PM tonight    Event\n",
       "5  Navaratri dandiya program at Expo center in Mu...    Event\n",
       "6  Exciting vacation destinations for your next trip   Travel\n",
       "7  Maldives and Srilanka are gaining popularity i...   Travel"
      ]
     },
     "execution_count": 5,
     "metadata": {},
     "output_type": "execute_result"
    }
   ],
   "source": [
    "df"
   ]
  },
  {
   "cell_type": "code",
   "execution_count": 6,
   "id": "560cbc60-1d6d-4c73-8a81-5d760a3da359",
   "metadata": {},
   "outputs": [
    {
     "name": "stderr",
     "output_type": "stream",
     "text": [
      "C:\\Users\\rangi\\AppData\\Local\\Packages\\PythonSoftwareFoundation.Python.3.11_qbz5n2kfra8p0\\LocalCache\\local-packages\\Python311\\site-packages\\tqdm\\auto.py:21: TqdmWarning: IProgress not found. Please update jupyter and ipywidgets. See https://ipywidgets.readthedocs.io/en/stable/user_install.html\n",
      "  from .autonotebook import tqdm as notebook_tqdm\n"
     ]
    }
   ],
   "source": [
    "# Converting the text to vector using embeddings \n",
    "\n",
    "from sentence_transformers import SentenceTransformer"
   ]
  },
  {
   "cell_type": "code",
   "execution_count": 7,
   "id": "76101ea7-cca9-4257-b3f5-878b8a7c7b52",
   "metadata": {},
   "outputs": [
    {
     "name": "stderr",
     "output_type": "stream",
     "text": [
      "C:\\Users\\rangi\\AppData\\Local\\Packages\\PythonSoftwareFoundation.Python.3.11_qbz5n2kfra8p0\\LocalCache\\local-packages\\Python311\\site-packages\\huggingface_hub\\file_download.py:143: UserWarning: `huggingface_hub` cache-system uses symlinks by default to efficiently store duplicated files but your machine does not support them in C:\\Users\\rangi\\.cache\\huggingface\\hub\\models--sentence-transformers--all-mpnet-base-v2. Caching files will still work but in a degraded version that might require more space on your disk. This warning can be disabled by setting the `HF_HUB_DISABLE_SYMLINKS_WARNING` environment variable. For more details, see https://huggingface.co/docs/huggingface_hub/how-to-cache#limitations.\n",
      "To support symlinks on Windows, you either need to activate Developer Mode or to run Python as an administrator. In order to activate developer mode, see this article: https://docs.microsoft.com/en-us/windows/apps/get-started/enable-your-device-for-development\n",
      "  warnings.warn(message)\n",
      "Xet Storage is enabled for this repo, but the 'hf_xet' package is not installed. Falling back to regular HTTP download. For better performance, install the package with: `pip install huggingface_hub[hf_xet]` or `pip install hf_xet`\n"
     ]
    }
   ],
   "source": [
    "# Hugging face encoder \n",
    "encoder = SentenceTransformer(\"all-mpnet-base-v2\")\n",
    "vectors = encoder.encode(df.text)"
   ]
  },
  {
   "cell_type": "code",
   "execution_count": 8,
   "id": "84390cd4-df01-424d-b090-c04e5832c241",
   "metadata": {},
   "outputs": [
    {
     "data": {
      "text/plain": [
       "array([[-0.00247383,  0.03626734, -0.05290458, ..., -0.09152356,\n",
       "        -0.03969998, -0.04330488],\n",
       "       [-0.03357266,  0.00980517, -0.03250129, ..., -0.05165472,\n",
       "         0.02245888, -0.03156181],\n",
       "       [-0.0186533 , -0.04051308, -0.01235395, ...,  0.00610585,\n",
       "        -0.07179648,  0.02773854],\n",
       "       ...,\n",
       "       [-0.00066459,  0.04252126, -0.05645507, ...,  0.0131547 ,\n",
       "        -0.03183562, -0.04357665],\n",
       "       [-0.03317156,  0.03252463, -0.0248484 , ...,  0.01174414,\n",
       "         0.05747123,  0.00571026],\n",
       "       [-0.00166396,  0.00413828, -0.04597078, ...,  0.02008535,\n",
       "         0.05656246, -0.00161596]], shape=(8, 768), dtype=float32)"
      ]
     },
     "execution_count": 8,
     "metadata": {},
     "output_type": "execute_result"
    }
   ],
   "source": [
    "vectors"
   ]
  },
  {
   "cell_type": "code",
   "execution_count": 9,
   "id": "d3ea5311-d921-4a8d-9848-36771e67a75a",
   "metadata": {},
   "outputs": [
    {
     "data": {
      "text/plain": [
       "(8, 768)"
      ]
     },
     "execution_count": 9,
     "metadata": {},
     "output_type": "execute_result"
    }
   ],
   "source": [
    "vectors.shape"
   ]
  },
  {
   "cell_type": "code",
   "execution_count": 10,
   "id": "b0beab1a-c3b0-4dc3-978e-e23dd5b3de70",
   "metadata": {},
   "outputs": [
    {
     "data": {
      "text/plain": [
       "array([-2.47383164e-03,  3.62673439e-02, -5.29045761e-02, -2.17347927e-02,\n",
       "        1.41723882e-02, -1.01593044e-03,  2.23636348e-02,  3.65196355e-02,\n",
       "        3.80901322e-02,  5.22007374e-03, -3.00865136e-02,  2.05454463e-03,\n",
       "        1.08502693e-02, -8.49088281e-02, -5.57265570e-03, -6.06598780e-02,\n",
       "        2.32009194e-03, -1.51409274e-02,  1.20671233e-02,  1.98904686e-02,\n",
       "       -1.27935903e-02, -2.72811390e-02, -3.31879072e-02,  3.40647250e-03,\n",
       "        8.41179024e-03, -1.94853730e-02,  4.88132276e-02,  2.24118959e-02,\n",
       "        4.53466848e-02, -5.90892285e-02, -9.13183093e-02, -1.22327765e-03,\n",
       "       -4.05045785e-02,  8.67172424e-03,  1.26565340e-06, -1.92451607e-02,\n",
       "       -3.20658758e-02, -4.08173054e-02,  8.79176781e-02, -1.52631411e-02,\n",
       "        1.09909568e-02, -4.47978564e-02, -4.74823918e-03,  3.52632888e-02,\n",
       "        1.31070949e-02,  1.09944157e-02, -3.45760910e-03,  9.12348777e-02,\n",
       "        5.68809398e-02,  4.82893512e-02, -4.51442227e-03,  3.58451083e-02,\n",
       "       -2.44209617e-02, -4.28084806e-02, -1.66666508e-02,  1.65210608e-02,\n",
       "        1.14226984e-02,  6.19199388e-02, -2.31556725e-02, -3.98107246e-02,\n",
       "       -1.20360684e-02, -3.24893482e-02, -4.68718186e-02,  5.74309602e-02,\n",
       "       -2.09294073e-02,  8.66619218e-03,  2.93695219e-02,  1.39488559e-03,\n",
       "        2.89673246e-02,  1.57141276e-02, -4.39897832e-03,  3.33096497e-02,\n",
       "        3.25463526e-02, -5.67627884e-03,  9.64477379e-03, -1.09200757e-02,\n",
       "       -9.13842116e-03, -2.17639096e-02, -1.64264219e-03,  2.95123495e-02,\n",
       "        7.90999085e-02,  1.52952550e-02, -3.61722335e-02, -1.28437355e-02,\n",
       "        7.60599971e-02, -2.54636984e-02, -4.98353504e-03, -9.66977142e-03,\n",
       "        1.23359989e-02, -1.11458665e-02, -1.25427200e-02, -4.38241400e-02,\n",
       "       -1.63968268e-03,  3.94689618e-03,  5.90711192e-04,  1.25497486e-02,\n",
       "       -1.35575393e-02, -1.38590008e-01, -1.79839302e-02,  8.95770192e-02,\n",
       "        6.93042427e-02,  5.44512719e-02, -1.73114799e-02, -6.94497228e-02,\n",
       "        9.26837698e-03,  2.52372231e-02,  1.27630467e-02, -4.95678885e-03,\n",
       "       -1.05312029e-02,  6.89907596e-02, -4.03781654e-03,  1.46953752e-02,\n",
       "       -2.53697746e-02, -3.24942581e-02, -4.91564861e-03,  4.10980545e-03,\n",
       "       -6.16341978e-02, -9.87230521e-03, -4.40230034e-02, -2.49387585e-02,\n",
       "       -2.57240199e-02, -6.45754188e-02, -2.28088181e-02,  8.39908258e-04,\n",
       "        5.17681576e-02,  7.28095397e-02, -2.78260130e-02, -2.70896889e-02,\n",
       "        2.56125443e-02, -2.85153501e-02,  2.48930231e-02,  1.52169894e-02,\n",
       "       -1.82602089e-02,  4.57473146e-03,  4.00794717e-03, -4.10633162e-02,\n",
       "        5.58518246e-02, -4.68986575e-03, -5.42436764e-02,  4.36729193e-03,\n",
       "        1.01202559e-02, -9.13168397e-03,  8.82922560e-02, -2.30879374e-02,\n",
       "       -2.15983577e-02, -4.62850034e-02,  2.45606806e-02, -9.63641703e-03,\n",
       "        2.04569269e-02, -3.36907022e-02, -2.33147312e-02, -3.04208402e-06,\n",
       "       -4.21612114e-02, -2.33145710e-02,  3.98631096e-02,  5.20909578e-02,\n",
       "        8.87798294e-02, -7.32881308e-04,  3.44772115e-02, -2.87739914e-02,\n",
       "        4.24330533e-02, -1.99291483e-02,  2.78219804e-02, -3.48257609e-02,\n",
       "        5.40323518e-02, -4.23691645e-02,  8.31100941e-02, -2.88300831e-02,\n",
       "       -6.22713342e-02,  2.47736834e-02, -6.59211054e-02, -1.81272030e-02,\n",
       "       -1.48121100e-02,  1.07428826e-01, -4.06899396e-03,  6.28883243e-02,\n",
       "       -1.45184444e-02,  2.66863704e-02, -8.66079852e-02, -1.52695356e-02,\n",
       "       -3.13375448e-03, -2.73708533e-03, -1.79909337e-02,  1.99597143e-02,\n",
       "        8.21225047e-02,  6.80243829e-03, -7.02429144e-03,  2.94618290e-02,\n",
       "       -1.36625012e-02, -4.27073687e-02, -4.59483750e-02, -2.15018429e-02,\n",
       "        1.33593986e-02, -4.04235013e-02, -3.29471170e-03,  1.99417826e-02,\n",
       "        4.95411940e-02,  5.59021495e-02,  1.10124229e-02, -1.27646490e-03,\n",
       "       -3.47213596e-02,  5.04798666e-02, -2.76383869e-02, -6.08148202e-02,\n",
       "       -4.09358442e-02, -1.70139037e-02,  2.28633601e-02,  3.50621040e-03,\n",
       "        8.88337344e-02, -2.17468850e-02,  7.32046692e-03,  4.30595055e-02,\n",
       "       -2.76744459e-03, -1.28804781e-02,  1.48887536e-03, -7.65301147e-03,\n",
       "        7.79365888e-04,  3.98993157e-02,  1.81988981e-02,  2.18550372e-03,\n",
       "       -1.44026047e-02,  6.61469549e-02,  1.29944887e-02,  3.00723710e-04,\n",
       "        6.94512129e-02,  9.69163235e-03,  7.73052722e-02,  1.49984173e-02,\n",
       "        7.68603086e-02,  1.50437858e-02, -2.70854309e-02,  1.03822649e-02,\n",
       "       -6.34129439e-03, -1.86572447e-02, -5.77929839e-02,  2.80816127e-02,\n",
       "        2.32389122e-02, -2.65861787e-02, -4.37125005e-02,  2.25694813e-02,\n",
       "        2.60372553e-02,  5.91905601e-02, -9.07666888e-03, -2.58117504e-02,\n",
       "       -2.82173185e-03, -1.48377139e-02, -2.11602245e-02,  2.95709446e-02,\n",
       "       -6.05773441e-02,  9.92968213e-03,  3.09274835e-03, -2.78294981e-02,\n",
       "       -4.66294549e-02, -1.66598763e-02, -3.01651359e-02, -4.93828990e-02,\n",
       "       -4.89021912e-02, -1.16062565e-02,  1.28894513e-02, -1.51607497e-02,\n",
       "       -1.83716062e-02, -6.28013583e-03,  4.56338422e-03, -3.93355452e-02,\n",
       "        1.97598971e-02, -2.09158510e-02,  3.26803923e-02, -9.99123305e-02,\n",
       "       -7.31088454e-03, -2.85855103e-02, -4.75265086e-02, -7.53553119e-03,\n",
       "        7.45954178e-03, -1.76943690e-02, -3.87278199e-02, -1.26046063e-02,\n",
       "        6.57023415e-02,  9.98489037e-02,  3.23767699e-02, -3.14149372e-02,\n",
       "       -3.39230597e-02,  2.18934007e-02,  4.17155102e-02, -2.91292910e-02,\n",
       "        1.69251543e-02, -2.70652007e-02,  1.02947131e-02, -8.51270370e-03,\n",
       "        5.82498647e-02,  6.05036411e-03,  2.51692925e-02,  1.17143411e-02,\n",
       "       -1.43268146e-02, -2.68335417e-02, -3.36446315e-02,  4.13522236e-02,\n",
       "        1.23572778e-02,  3.27557363e-02,  1.36761065e-03, -3.43487151e-02,\n",
       "       -2.23306455e-02,  1.16951168e-02,  2.89603584e-02,  9.82658286e-03,\n",
       "        4.48703393e-02,  1.36506865e-02, -2.55217850e-02,  1.16558466e-02,\n",
       "        1.72281638e-02, -1.19526666e-02,  2.94620059e-02,  5.44005772e-03,\n",
       "        7.05644581e-03, -2.76309270e-02,  2.19648983e-02,  2.89274063e-02,\n",
       "        2.90114824e-02,  1.71294380e-02,  1.71571318e-02,  3.06242909e-02,\n",
       "       -3.33009567e-03, -4.28258665e-02, -2.78930049e-02, -8.78215209e-03,\n",
       "       -1.97479129e-03, -3.04208770e-02,  1.01123922e-01,  1.11175133e-02,\n",
       "        3.70043213e-03,  3.05224378e-02, -6.94843102e-03,  3.36758867e-02,\n",
       "        1.49477758e-02,  5.09507507e-02, -6.17867410e-02, -6.54374212e-02,\n",
       "        1.01318462e-02,  8.71555228e-03, -2.13061180e-02, -7.16114650e-03,\n",
       "        2.81146187e-02,  6.08822424e-03, -6.53892457e-02,  8.65298212e-02,\n",
       "       -4.26639356e-02, -1.95683409e-02,  6.20290684e-03,  5.45220971e-02,\n",
       "       -2.94240017e-04, -7.94979930e-02,  2.34850701e-02, -2.81758569e-02,\n",
       "       -2.67926250e-02,  8.09144229e-03,  1.06042325e-02, -3.51757146e-02,\n",
       "        3.66234295e-02,  1.09313326e-02,  2.97116768e-02,  1.30286850e-02,\n",
       "       -3.92857194e-02,  1.45116728e-02,  1.87349115e-02, -1.32707478e-02,\n",
       "        6.87149093e-02, -3.04465108e-02, -2.08048467e-02,  1.08850431e-02,\n",
       "        2.52188928e-02,  1.71259176e-02, -3.36281247e-02,  5.18848896e-02,\n",
       "       -1.62590072e-02,  1.43419495e-02, -5.09706065e-02,  7.62143731e-02,\n",
       "       -3.95712163e-03, -6.92038089e-02, -5.83421588e-02, -1.35673108e-02,\n",
       "        6.34213863e-03,  1.52591681e-02,  6.45108894e-03,  4.78067528e-03,\n",
       "        2.21218411e-02, -1.46030933e-02,  1.99064724e-02,  4.94005494e-02,\n",
       "        3.77785377e-02, -4.72102463e-02,  1.19164051e-03, -7.77721182e-02,\n",
       "        7.51762390e-02,  1.51349334e-02, -3.00766677e-02, -2.54277457e-02,\n",
       "       -7.68553140e-03, -3.32965739e-02,  2.68353801e-02,  1.16432859e-02,\n",
       "       -2.65071988e-02, -2.21001506e-02,  3.13199982e-02, -1.75455380e-02,\n",
       "        1.62755866e-02,  1.05227157e-02,  4.59099263e-02,  1.12994676e-02,\n",
       "        2.25944980e-03, -4.32900190e-02,  2.55048331e-02,  9.08373073e-02,\n",
       "        3.49960998e-02,  1.99541114e-02,  8.99381191e-02, -1.25245908e-02,\n",
       "        2.99614929e-02,  5.30713843e-03,  3.87517139e-02, -7.73843601e-02,\n",
       "       -2.13108994e-02,  1.71742570e-02, -2.26808488e-02,  3.90663184e-02,\n",
       "       -1.48159871e-02,  6.43334240e-02,  4.15602773e-02,  3.50661296e-03,\n",
       "       -3.73801962e-02, -2.15711053e-02,  3.59704383e-02,  1.26670599e-02,\n",
       "        1.18572628e-02, -1.57607626e-02,  2.89344899e-02, -1.26262847e-03,\n",
       "       -1.25825480e-02, -1.85953695e-02, -4.02568839e-02, -4.52977046e-02,\n",
       "       -3.23485583e-02, -9.25452635e-03,  1.25144403e-02, -1.65086109e-02,\n",
       "        1.14767263e-02,  2.81503443e-02,  8.33326057e-02,  3.36188376e-02,\n",
       "        4.08940105e-04,  3.39801013e-02,  1.61180589e-02,  3.48991416e-02,\n",
       "        1.53090870e-02, -1.57534555e-02,  4.15873304e-02, -2.98247486e-02,\n",
       "       -4.53814715e-02, -1.02242239e-01,  4.03168350e-02,  1.70004293e-02,\n",
       "        1.87225956e-02, -2.08056765e-03, -3.33344936e-03,  3.12029477e-02,\n",
       "        4.42022370e-04, -6.45755157e-02, -6.61168844e-02, -6.12061992e-02,\n",
       "       -1.36191985e-02, -2.49696486e-02,  6.13838471e-02,  2.51729898e-02,\n",
       "       -6.04643114e-03,  2.46976502e-02,  1.33112995e-02,  2.91291829e-02,\n",
       "       -3.77129950e-02,  3.14110443e-02,  7.01060146e-02, -1.87029205e-02,\n",
       "        4.64438945e-02, -3.50710079e-02,  5.78634022e-03,  2.02969816e-02,\n",
       "       -9.14951728e-04,  2.73546521e-02, -4.49902453e-02, -1.92701425e-02,\n",
       "       -1.94974116e-03, -2.72162165e-02, -1.74497045e-03,  5.99823333e-02,\n",
       "        3.38415406e-03, -4.43555713e-02,  2.25251876e-02, -1.98008697e-02,\n",
       "       -1.27885453e-02, -1.68491304e-02, -3.18891816e-02, -9.83175263e-03,\n",
       "       -2.37169135e-02, -3.51642026e-04,  2.70692003e-03,  4.34033200e-02,\n",
       "        2.23514135e-03,  1.04529047e-02, -1.25210891e-02,  3.80455516e-02,\n",
       "       -5.37343498e-04, -1.31307244e-02,  1.76104382e-02, -3.21571424e-04,\n",
       "       -4.33224328e-02, -6.97795153e-02,  2.04764660e-02,  2.54790438e-03,\n",
       "        3.64245772e-02,  1.31792305e-02,  3.74212004e-02, -2.40744539e-02,\n",
       "        1.58512928e-02,  2.33805645e-02, -1.43253310e-02,  9.85238701e-03,\n",
       "       -1.55072864e-02,  8.11943971e-03, -2.57197414e-02,  4.66311630e-03,\n",
       "       -1.50064537e-02, -1.59888770e-02, -6.18274994e-02, -3.19935270e-02,\n",
       "        3.00307702e-02, -2.62035783e-02, -4.40739803e-02,  4.71211746e-02,\n",
       "       -8.53407383e-02,  5.49825951e-02, -6.54164003e-03,  4.11519222e-02,\n",
       "        4.12454382e-02, -2.99727153e-02,  8.77857283e-02, -4.84296167e-03,\n",
       "       -1.86587162e-02, -2.43209936e-02, -3.44155263e-03,  1.71136912e-02,\n",
       "        5.27162366e-02, -3.81458551e-02, -6.85426816e-02,  1.49510261e-02,\n",
       "       -2.22116150e-02, -2.86749676e-02, -2.97934143e-03, -3.73255860e-33,\n",
       "       -8.48158915e-03,  5.95543534e-02, -9.73887835e-03,  2.78523527e-02,\n",
       "        4.26145317e-03, -4.62204181e-02, -1.60520460e-04,  2.03654673e-02,\n",
       "        2.74292026e-02,  3.67005318e-02,  8.95547215e-03,  7.47958720e-02,\n",
       "       -5.74466586e-03,  1.78796723e-02, -8.56286287e-03, -1.87858157e-02,\n",
       "       -2.86744200e-02,  5.29136276e-03, -7.28311995e-03, -1.84070170e-02,\n",
       "       -3.48131694e-02,  5.07888831e-02,  3.45481709e-02, -4.04980667e-02,\n",
       "       -4.27604392e-02,  2.78409347e-02,  4.66893539e-02, -6.46444336e-02,\n",
       "       -5.29186614e-03, -5.78812510e-03, -1.56755149e-02, -5.47064468e-03,\n",
       "        1.39789507e-02, -1.11804728e-03,  5.50472818e-04, -2.26583760e-02,\n",
       "        1.50560793e-02,  3.38191241e-02, -8.25204328e-03,  2.16513090e-02,\n",
       "        8.77526938e-04, -2.40299152e-03, -2.82623060e-02,  1.05069336e-02,\n",
       "        3.68513651e-02, -2.31945254e-02, -2.93092802e-02, -4.81787845e-02,\n",
       "        2.89041828e-02, -4.68107834e-02, -3.55235413e-02, -2.09481046e-02,\n",
       "       -8.83264467e-03,  8.06665048e-02, -8.48143101e-02, -3.95478681e-02,\n",
       "       -5.03684431e-02,  2.69838031e-02, -3.94667964e-03, -2.39756424e-02,\n",
       "        3.29292342e-02,  4.16704752e-02, -2.45396420e-02, -3.85609642e-02,\n",
       "       -3.02902162e-02, -2.84513943e-02, -6.83767423e-02, -9.38019063e-03,\n",
       "       -4.70948666e-02, -2.15401333e-02,  4.15227152e-02,  6.90569403e-03,\n",
       "        2.96323411e-02, -1.55480821e-02, -2.56334618e-02, -4.94205318e-02,\n",
       "       -1.07960179e-02,  1.36496378e-02,  8.46195593e-03,  4.44032438e-02,\n",
       "        3.94031726e-04,  2.20193770e-02,  3.60401981e-02,  5.93104847e-02,\n",
       "        2.14909874e-02, -1.90565810e-02, -2.08019856e-02,  1.91410985e-02,\n",
       "       -3.78735922e-03,  1.66846886e-02,  2.79685557e-02, -6.88842870e-03,\n",
       "       -9.25202947e-03, -2.20814422e-02,  4.68296483e-02,  2.11677458e-02,\n",
       "       -2.44131368e-02, -7.68519472e-03,  3.94079760e-02, -5.65718301e-02,\n",
       "        8.71799979e-03,  2.10748035e-02, -1.76223051e-02,  5.53250909e-02,\n",
       "        3.49679403e-02, -2.62319706e-02,  5.69753796e-02, -7.94604644e-02,\n",
       "       -1.52109945e-02,  2.09261272e-02,  1.75830815e-02,  4.12070826e-02,\n",
       "        2.66289655e-02, -1.34374993e-02, -4.86178249e-02,  1.27242887e-02,\n",
       "        9.39355325e-03, -8.11939966e-03,  2.95724031e-02, -6.94516078e-02,\n",
       "       -7.10698366e-02,  3.01142514e-04,  4.31028008e-02, -5.95075525e-02,\n",
       "        2.65519284e-02, -5.90478703e-02,  4.46865410e-02, -1.46238422e-02,\n",
       "       -9.81808919e-03, -4.89699170e-02,  1.01139788e-02,  2.82771792e-02,\n",
       "        1.99888547e-07, -6.35881051e-02,  1.15380418e-02, -1.61977392e-02,\n",
       "       -3.75170000e-02,  2.24945359e-02,  5.75001631e-03, -6.25734180e-02,\n",
       "       -1.51106110e-02,  2.80585140e-02,  3.69874015e-02, -4.67125066e-02,\n",
       "       -2.84615774e-02,  1.72771960e-02, -9.28004831e-03,  7.98695683e-02,\n",
       "       -8.46900418e-02,  3.83957662e-02,  1.41001865e-03, -9.62676108e-03,\n",
       "        1.36490688e-02, -1.77746918e-02,  4.18013148e-02,  8.53311643e-03,\n",
       "       -1.77580572e-03, -8.90161470e-03,  3.19799036e-02,  3.75545062e-02,\n",
       "        1.10768788e-02,  5.14425598e-02,  4.77531739e-02,  9.78297442e-02,\n",
       "       -9.33881477e-03, -6.87361732e-02, -3.38470899e-02, -4.79165372e-03,\n",
       "       -3.35370041e-02, -2.90470589e-02,  2.22574919e-02, -6.03143824e-04,\n",
       "        4.80033904e-02, -3.26163396e-02,  7.76099563e-02, -2.88890637e-02,\n",
       "       -1.22942431e-02,  1.82095207e-02, -1.09790444e-01, -2.57628076e-02,\n",
       "        3.70127112e-02, -6.64495816e-03, -2.65492145e-02,  2.67256629e-02,\n",
       "        2.67417897e-02,  6.14932971e-03,  3.98129150e-02, -1.56968180e-03,\n",
       "        6.82375685e-04,  4.84148338e-02,  2.97228131e-03, -1.46997049e-02,\n",
       "       -3.73887382e-02, -1.90462433e-02,  4.02793474e-02,  1.27062376e-03,\n",
       "        1.20832527e-03, -5.90572804e-02, -1.78196691e-02, -5.61400987e-02,\n",
       "        9.20051795e-35,  1.11878468e-02,  1.60857160e-02,  9.83773544e-03,\n",
       "       -2.01887880e-02, -7.61513691e-03, -4.81337197e-02, -6.21874407e-02,\n",
       "        6.26685098e-03, -9.15235579e-02, -3.96999754e-02, -4.33048792e-02],\n",
       "      dtype=float32)"
      ]
     },
     "execution_count": 10,
     "metadata": {},
     "output_type": "execute_result"
    }
   ],
   "source": [
    "vectors[0]"
   ]
  },
  {
   "cell_type": "code",
   "execution_count": 11,
   "id": "2be56af9-fb9d-4cb3-8dd2-74b3d82ca77d",
   "metadata": {},
   "outputs": [],
   "source": [
    "dim = vectors.shape[1]"
   ]
  },
  {
   "cell_type": "code",
   "execution_count": 12,
   "id": "d6f6dd65-08aa-4fd6-85bc-a84dcfc80f09",
   "metadata": {},
   "outputs": [
    {
     "data": {
      "text/plain": [
       "768"
      ]
     },
     "execution_count": 12,
     "metadata": {},
     "output_type": "execute_result"
    }
   ],
   "source": [
    "dim"
   ]
  },
  {
   "cell_type": "code",
   "execution_count": 15,
   "id": "375f973d-b9b6-4073-9212-524f609c2c74",
   "metadata": {},
   "outputs": [],
   "source": [
    "import faiss\n",
    "index = faiss.IndexFlatL2(dim)"
   ]
  },
  {
   "cell_type": "code",
   "execution_count": 16,
   "id": "f22d8ba5-a671-4477-b8bb-fd912c9cb298",
   "metadata": {},
   "outputs": [
    {
     "data": {
      "text/plain": [
       "<faiss.swigfaiss_avx2.IndexFlatL2; proxy of <Swig Object of type 'faiss::IndexFlatL2 *' at 0x000002CCE7C8D3B0> >"
      ]
     },
     "execution_count": 16,
     "metadata": {},
     "output_type": "execute_result"
    }
   ],
   "source": [
    "index\n"
   ]
  },
  {
   "cell_type": "code",
   "execution_count": 17,
   "id": "57eb67d6-cf3a-40e4-9e3d-b2d271c470ac",
   "metadata": {},
   "outputs": [],
   "source": [
    "index.add(vectors)"
   ]
  },
  {
   "cell_type": "code",
   "execution_count": 18,
   "id": "7ce5bb84-7848-450f-94c0-608964c8cbef",
   "metadata": {},
   "outputs": [],
   "source": [
    "search_query = \"An apple a day keeps doctor away\""
   ]
  },
  {
   "cell_type": "code",
   "execution_count": 19,
   "id": "42b78d83-2525-44ea-bc13-f73ca558a498",
   "metadata": {},
   "outputs": [],
   "source": [
    "vec = encoder.encode(search_query)"
   ]
  },
  {
   "cell_type": "code",
   "execution_count": 20,
   "id": "cac18d27-d2a2-4231-a1e3-506ec0a60337",
   "metadata": {},
   "outputs": [
    {
     "data": {
      "text/plain": [
       "(768,)"
      ]
     },
     "execution_count": 20,
     "metadata": {},
     "output_type": "execute_result"
    }
   ],
   "source": [
    "vec.shape"
   ]
  },
  {
   "cell_type": "code",
   "execution_count": 21,
   "id": "ad515d64-4c7a-460b-820f-a7b776c04101",
   "metadata": {},
   "outputs": [],
   "source": [
    "import numpy as np \n",
    "svec = np.array(vec).reshape(1,-1)"
   ]
  },
  {
   "cell_type": "code",
   "execution_count": 22,
   "id": "69b123ec-c35c-4bc6-9b39-4dcc4a550ef5",
   "metadata": {},
   "outputs": [
    {
     "data": {
      "text/plain": [
       "(1, 768)"
      ]
     },
     "execution_count": 22,
     "metadata": {},
     "output_type": "execute_result"
    }
   ],
   "source": [
    "svec.shape"
   ]
  },
  {
   "cell_type": "code",
   "execution_count": 23,
   "id": "6886a2f8-d660-4525-a598-9d11b51f776a",
   "metadata": {},
   "outputs": [
    {
     "data": {
      "text/plain": [
       "(array([[1.3908101, 1.7193401]], dtype=float32), array([[1, 0]]))"
      ]
     },
     "execution_count": 23,
     "metadata": {},
     "output_type": "execute_result"
    }
   ],
   "source": [
    "index.search(svec, k=2)"
   ]
  },
  {
   "cell_type": "code",
   "execution_count": 24,
   "id": "b2ede8cc-da23-4f3b-893c-2dda6edec544",
   "metadata": {},
   "outputs": [],
   "source": [
    "dis, I = index.search(svec, k=2)"
   ]
  },
  {
   "cell_type": "code",
   "execution_count": 26,
   "id": "1b3625d6-7a35-4c19-a6c2-486f58751b65",
   "metadata": {},
   "outputs": [
    {
     "data": {
      "text/plain": [
       "array([[1.3908101, 1.7193401]], dtype=float32)"
      ]
     },
     "execution_count": 26,
     "metadata": {},
     "output_type": "execute_result"
    }
   ],
   "source": [
    "dis"
   ]
  },
  {
   "cell_type": "code",
   "execution_count": 27,
   "id": "0bbcf85a-8a1f-4826-890c-56b6cb3d9074",
   "metadata": {},
   "outputs": [
    {
     "data": {
      "text/plain": [
       "array([[1, 0]])"
      ]
     },
     "execution_count": 27,
     "metadata": {},
     "output_type": "execute_result"
    }
   ],
   "source": [
    "I"
   ]
  },
  {
   "cell_type": "code",
   "execution_count": 29,
   "id": "f9223e47-af12-429d-a620-225e85eb324e",
   "metadata": {},
   "outputs": [
    {
     "data": {
      "text/html": [
       "<div>\n",
       "<style scoped>\n",
       "    .dataframe tbody tr th:only-of-type {\n",
       "        vertical-align: middle;\n",
       "    }\n",
       "\n",
       "    .dataframe tbody tr th {\n",
       "        vertical-align: top;\n",
       "    }\n",
       "\n",
       "    .dataframe thead th {\n",
       "        text-align: right;\n",
       "    }\n",
       "</style>\n",
       "<table border=\"1\" class=\"dataframe\">\n",
       "  <thead>\n",
       "    <tr style=\"text-align: right;\">\n",
       "      <th></th>\n",
       "      <th>text</th>\n",
       "      <th>category</th>\n",
       "    </tr>\n",
       "  </thead>\n",
       "  <tbody>\n",
       "    <tr>\n",
       "      <th>1</th>\n",
       "      <td>Fruits, whole grains and vegetables helps cont...</td>\n",
       "      <td>Health</td>\n",
       "    </tr>\n",
       "    <tr>\n",
       "      <th>0</th>\n",
       "      <td>Meditation and yoga can improve mental health</td>\n",
       "      <td>Health</td>\n",
       "    </tr>\n",
       "  </tbody>\n",
       "</table>\n",
       "</div>"
      ],
      "text/plain": [
       "                                                text category\n",
       "1  Fruits, whole grains and vegetables helps cont...   Health\n",
       "0      Meditation and yoga can improve mental health   Health"
      ]
     },
     "execution_count": 29,
     "metadata": {},
     "output_type": "execute_result"
    }
   ],
   "source": [
    "df.loc[I[0]]"
   ]
  },
  {
   "cell_type": "code",
   "execution_count": null,
   "id": "c87942c9-b411-4ee4-831b-84ff06eebe13",
   "metadata": {},
   "outputs": [],
   "source": []
  },
  {
   "cell_type": "code",
   "execution_count": null,
   "id": "87ff9eed-6faf-4ca3-8395-6100b28c63c3",
   "metadata": {},
   "outputs": [],
   "source": []
  },
  {
   "cell_type": "code",
   "execution_count": null,
   "id": "761ed3fe-c19a-4cbc-b642-a396df444cf8",
   "metadata": {},
   "outputs": [],
   "source": []
  },
  {
   "cell_type": "code",
   "execution_count": null,
   "id": "322d7d73-c72c-4aea-9a57-21d8a26c7648",
   "metadata": {},
   "outputs": [],
   "source": []
  },
  {
   "cell_type": "code",
   "execution_count": null,
   "id": "05cfd07f-a50f-431a-a6df-be8aecc7b5ce",
   "metadata": {},
   "outputs": [],
   "source": []
  },
  {
   "cell_type": "code",
   "execution_count": null,
   "id": "4acd8eaa-b113-4b33-9418-722f766f5738",
   "metadata": {},
   "outputs": [],
   "source": []
  },
  {
   "cell_type": "code",
   "execution_count": null,
   "id": "e01f5737-9e42-42b0-90a1-382462b2621d",
   "metadata": {},
   "outputs": [],
   "source": []
  },
  {
   "cell_type": "code",
   "execution_count": null,
   "id": "9d3587a2-709e-4f1a-b919-411d16b288a4",
   "metadata": {},
   "outputs": [],
   "source": []
  },
  {
   "cell_type": "code",
   "execution_count": null,
   "id": "e7e014dc-c3b3-4a01-8570-6cc7154b71a4",
   "metadata": {},
   "outputs": [],
   "source": []
  },
  {
   "cell_type": "code",
   "execution_count": null,
   "id": "9d6eed22-6e6a-4a18-8a83-bec5c1f9c9c0",
   "metadata": {},
   "outputs": [],
   "source": []
  },
  {
   "cell_type": "code",
   "execution_count": null,
   "id": "fa60fe77-9a6e-4402-9fd9-cf290a36a602",
   "metadata": {},
   "outputs": [],
   "source": []
  }
 ],
 "metadata": {
  "kernelspec": {
   "display_name": "Python 3",
   "language": "python",
   "name": "python3"
  },
  "language_info": {
   "codemirror_mode": {
    "name": "ipython",
    "version": 3
   },
   "file_extension": ".py",
   "mimetype": "text/x-python",
   "name": "python",
   "nbconvert_exporter": "python",
   "pygments_lexer": "ipython3",
   "version": "3.11.9"
  }
 },
 "nbformat": 4,
 "nbformat_minor": 5
}
